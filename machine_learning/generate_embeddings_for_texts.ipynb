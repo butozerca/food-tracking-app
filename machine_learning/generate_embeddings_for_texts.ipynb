{
 "cells": [
  {
   "cell_type": "code",
   "execution_count": 2,
   "id": "6abc65dd-6835-4284-9469-81c41c1faebf",
   "metadata": {},
   "outputs": [
    {
     "name": "stdout",
     "output_type": "stream",
     "text": [
      "Requirement already satisfied: chardet in /home/technet/miniconda3/envs/technet/lib/python3.11/site-packages (5.2.0)\n"
     ]
    }
   ],
   "source": [
    "!pip install chardet"
   ]
  },
  {
   "cell_type": "code",
   "execution_count": 4,
   "id": "c0a63e92-2f7b-494a-9dca-7c01e9c13e82",
   "metadata": {
    "collapsed": true,
    "jupyter": {
     "outputs_hidden": true
    },
    "scrolled": true
   },
   "outputs": [
    {
     "name": "stdout",
     "output_type": "stream",
     "text": [
      "Requirement already satisfied: openai in /home/technet/miniconda3/envs/technet/lib/python3.11/site-packages (0.28.1)\n",
      "Collecting openai\n",
      "  Downloading openai-1.14.2-py3-none-any.whl.metadata (19 kB)\n",
      "Requirement already satisfied: anyio<5,>=3.5.0 in /home/technet/miniconda3/envs/technet/lib/python3.11/site-packages (from openai) (3.7.1)\n",
      "Requirement already satisfied: distro<2,>=1.7.0 in /home/technet/miniconda3/envs/technet/lib/python3.11/site-packages (from openai) (1.9.0)\n",
      "Requirement already satisfied: httpx<1,>=0.23.0 in /home/technet/miniconda3/envs/technet/lib/python3.11/site-packages (from openai) (0.27.0)\n",
      "Requirement already satisfied: pydantic<3,>=1.9.0 in /home/technet/miniconda3/envs/technet/lib/python3.11/site-packages (from openai) (2.4.2)\n",
      "Requirement already satisfied: sniffio in /home/technet/miniconda3/envs/technet/lib/python3.11/site-packages (from openai) (1.3.0)\n",
      "Requirement already satisfied: tqdm>4 in /home/technet/miniconda3/envs/technet/lib/python3.11/site-packages (from openai) (4.66.1)\n",
      "Requirement already satisfied: typing-extensions<5,>=4.7 in /home/technet/miniconda3/envs/technet/lib/python3.11/site-packages (from openai) (4.7.1)\n",
      "Requirement already satisfied: idna>=2.8 in /home/technet/miniconda3/envs/technet/lib/python3.11/site-packages (from anyio<5,>=3.5.0->openai) (3.4)\n",
      "Requirement already satisfied: certifi in /home/technet/miniconda3/envs/technet/lib/python3.11/site-packages (from httpx<1,>=0.23.0->openai) (2023.7.22)\n",
      "Requirement already satisfied: httpcore==1.* in /home/technet/miniconda3/envs/technet/lib/python3.11/site-packages (from httpx<1,>=0.23.0->openai) (1.0.4)\n",
      "Requirement already satisfied: h11<0.15,>=0.13 in /home/technet/miniconda3/envs/technet/lib/python3.11/site-packages (from httpcore==1.*->httpx<1,>=0.23.0->openai) (0.14.0)\n",
      "Requirement already satisfied: annotated-types>=0.4.0 in /home/technet/miniconda3/envs/technet/lib/python3.11/site-packages (from pydantic<3,>=1.9.0->openai) (0.6.0)\n",
      "Requirement already satisfied: pydantic-core==2.10.1 in /home/technet/miniconda3/envs/technet/lib/python3.11/site-packages (from pydantic<3,>=1.9.0->openai) (2.10.1)\n",
      "Downloading openai-1.14.2-py3-none-any.whl (262 kB)\n",
      "\u001b[2K   \u001b[38;2;114;156;31m━━━━━━━━━━━━━━━━━━━━━━━━━━━━━━━━━━━━━━━━\u001b[0m \u001b[32m262.4/262.4 kB\u001b[0m \u001b[31m7.2 MB/s\u001b[0m eta \u001b[36m0:00:00\u001b[0m[36m0:00:01\u001b[0m\n",
      "\u001b[?25hInstalling collected packages: openai\n",
      "  Attempting uninstall: openai\n",
      "    Found existing installation: openai 0.28.1\n",
      "    Uninstalling openai-0.28.1:\n",
      "      Successfully uninstalled openai-0.28.1\n",
      "Successfully installed openai-1.14.2\n"
     ]
    }
   ],
   "source": [
    "!pip install openai --upgrade"
   ]
  },
  {
   "cell_type": "code",
   "execution_count": 1,
   "id": "181c6576-fd55-409a-a359-cd5a6ba6cca5",
   "metadata": {},
   "outputs": [],
   "source": [
    "from openai import OpenAI\n",
    "client = OpenAI(api_key=\"\")\n",
    "\n",
    "def get_embedding(text, model=\"text-embedding-3-large\"):\n",
    "   text = text.replace(\"\\n\", \" \")\n",
    "   return client.embeddings.create(input = [text], model=model).data[0].embedding"
   ]
  },
  {
   "cell_type": "code",
   "execution_count": 2,
   "id": "783c420b-d145-4382-83ee-1a9f93596842",
   "metadata": {},
   "outputs": [],
   "source": [
    "import pandas as pd\n",
    "from time import sleep\n",
    "from tqdm import tqdm"
   ]
  },
  {
   "cell_type": "code",
   "execution_count": 3,
   "id": "e0ab3e94-0b2e-48c5-97b6-6c878f0d6a73",
   "metadata": {},
   "outputs": [],
   "source": [
    "descriptions = pd.read_csv('description.csv')"
   ]
  },
  {
   "cell_type": "code",
   "execution_count": 15,
   "id": "2c75abcc-303b-463f-9c73-2c6c1b604944",
   "metadata": {},
   "outputs": [
    {
     "name": "stderr",
     "output_type": "stream",
     "text": [
      "100%|████████████████████████████████████████████████████████████████████████████████████████████████████████████████████████████████████| 724/724 [05:13<00:00,  2.31it/s]\n"
     ]
    }
   ],
   "source": [
    "embeddings = []\n",
    "for t in tqdm(descriptions['description']):\n",
    "    embeddings.append(get_embedding(t))\n",
    "    sleep(0.01)"
   ]
  },
  {
   "cell_type": "code",
   "execution_count": 16,
   "id": "a088a2d6-667c-4878-8dbb-c128ae2fdc2b",
   "metadata": {},
   "outputs": [],
   "source": [
    "descriptions['embedding'] = embeddings"
   ]
  },
  {
   "cell_type": "code",
   "execution_count": 17,
   "id": "103ad9f0-7a05-4a93-8eb6-66f74b9a0a83",
   "metadata": {},
   "outputs": [],
   "source": [
    "descriptions.to_csv('description_with_embeddings.csv', index=False)"
   ]
  },
  {
   "cell_type": "markdown",
   "id": "8ae04fed-6552-49b3-b4d8-1060000f3e86",
   "metadata": {},
   "source": [
    "# Our Image"
   ]
  },
  {
   "cell_type": "code",
   "execution_count": 5,
   "id": "4f034c5f-b1cc-4088-b2a9-6e782cff01e6",
   "metadata": {},
   "outputs": [],
   "source": [
    "our_text = \"Today I cooked myself just a simple pasta, with a tomato sauce and a spoon of grated cheese on top\""
   ]
  },
  {
   "cell_type": "code",
   "execution_count": 6,
   "id": "70c12db7-128c-416c-b670-c2837f5f4b79",
   "metadata": {},
   "outputs": [],
   "source": [
    "our_embedding = get_embedding(our_text)"
   ]
  },
  {
   "cell_type": "code",
   "execution_count": null,
   "id": "8968dbb1-0bf0-496a-bc08-60f0e269de9a",
   "metadata": {},
   "outputs": [],
   "source": []
  }
 ],
 "metadata": {
  "kernelspec": {
   "display_name": "Python 3 (ipykernel)",
   "language": "python",
   "name": "python3"
  },
  "language_info": {
   "codemirror_mode": {
    "name": "ipython",
    "version": 3
   },
   "file_extension": ".py",
   "mimetype": "text/x-python",
   "name": "python",
   "nbconvert_exporter": "python",
   "pygments_lexer": "ipython3",
   "version": "3.11.5"
  }
 },
 "nbformat": 4,
 "nbformat_minor": 5
}
